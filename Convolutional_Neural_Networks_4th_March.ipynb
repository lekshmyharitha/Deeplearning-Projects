{
  "nbformat": 4,
  "nbformat_minor": 0,
  "metadata": {
    "colab": {
      "name": "Convolutional Neural Networks_4th March.ipynb",
      "provenance": []
    },
    "kernelspec": {
      "name": "python3",
      "display_name": "Python 3"
    }
  },
  "cells": [
    {
      "cell_type": "code",
      "metadata": {
        "id": "tKcpx1DbbYZ1"
      },
      "source": [
        "import numpy as np\r\n",
        "import h5py\r\n",
        "import matplotlib.pyplot as plt\r\n",
        "\r\n",
        "%matplotlib inline\r\n",
        "plt.rcParams['figure.figsize'] = (5.0, 4.0) # set default size of plots\r\n",
        "plt.rcParams['image.interpolation'] = 'nearest'\r\n",
        "plt.rcParams['image.cmap'] = 'gray'\r\n",
        "\r\n",
        "%load_ext autoreload\r\n",
        "%autoreload 2\r\n",
        "\r\n",
        "np.random.seed(1)"
      ],
      "execution_count": 1,
      "outputs": []
    },
    {
      "cell_type": "code",
      "metadata": {
        "id": "qEbEVNEube-s"
      },
      "source": [
        "# GRADED FUNCTION: zero_pad\r\n",
        "\r\n",
        "def zero_pad(X, pad):\r\n",
        "    \"\"\"\r\n",
        "    Pad with zeros all images of the dataset X. The padding is applied to the height and width of an image, \r\n",
        "    as illustrated in Figure 1.\r\n",
        "    \r\n",
        "    Argument:\r\n",
        "    X -- python numpy array of shape (m, n_H, n_W, n_C) representing a batch of m images\r\n",
        "    pad -- integer, amount of padding around each image on vertical and horizontal dimensions\r\n",
        "    \r\n",
        "    Returns:\r\n",
        "    X_pad -- padded image of shape (m, n_H + 2*pad, n_W + 2*pad, n_C)\r\n",
        "    \"\"\"\r\n",
        "    \r\n",
        "    ### START CODE HERE ### (≈ 1 line)\r\n",
        "    X_pad = np.pad(X, ((0,0), (pad,pad), (pad,pad), (0,0)), 'constant', constant_values = 0)\r\n",
        "    ### END CODE HERE ###\r\n",
        "    \r\n",
        "    return X_pad"
      ],
      "execution_count": 2,
      "outputs": []
    },
    {
      "cell_type": "code",
      "metadata": {
        "colab": {
          "base_uri": "https://localhost:8080/",
          "height": 434
        },
        "id": "HSJ2b0YTcJpI",
        "outputId": "fd672416-1d8e-470f-bf8e-32179ea4ba61"
      },
      "source": [
        "np.random.seed(1)\r\n",
        "x = np.random.randn(4, 3, 3, 2)\r\n",
        "x_pad = zero_pad(x, 2)\r\n",
        "print (\"x.shape =\", x.shape)\r\n",
        "print (\"x_pad.shape =\", x_pad.shape)\r\n",
        "print (\"x[1,1] =\", x[1,1])\r\n",
        "print (\"x_pad[1,1] =\", x_pad[1,1])\r\n",
        "\r\n",
        "fig, axarr = plt.subplots(1, 2)\r\n",
        "axarr[0].set_title('x')\r\n",
        "axarr[0].imshow(x[0,:,:,0])\r\n",
        "axarr[1].set_title('x_pad')\r\n",
        "axarr[1].imshow(x_pad[0,:,:,0])\r\n"
      ],
      "execution_count": 3,
      "outputs": [
        {
          "output_type": "stream",
          "text": [
            "x.shape = (4, 3, 3, 2)\n",
            "x_pad.shape = (4, 7, 7, 2)\n",
            "x[1,1] = [[ 0.90085595 -0.68372786]\n",
            " [-0.12289023 -0.93576943]\n",
            " [-0.26788808  0.53035547]]\n",
            "x_pad[1,1] = [[0. 0.]\n",
            " [0. 0.]\n",
            " [0. 0.]\n",
            " [0. 0.]\n",
            " [0. 0.]\n",
            " [0. 0.]\n",
            " [0. 0.]]\n"
          ],
          "name": "stdout"
        },
        {
          "output_type": "execute_result",
          "data": {
            "text/plain": [
              "<matplotlib.image.AxesImage at 0x7f9af6e071d0>"
            ]
          },
          "metadata": {
            "tags": []
          },
          "execution_count": 3
        },
        {
          "output_type": "display_data",
          "data": {
            "image/png": "[encoded data removed]",
            "text/plain": [
              "<Figure size 432x288 with 2 Axes>"
            ]
          },
          "metadata": {
            "tags": [],
            "needs_background": "light"
          }
        }
      ]
    },
    {
      "cell_type": "code",
      "metadata": {
        "id": "U2PIo7hfcNHs"
      },
      "source": [
        "# GRADED FUNCTION: conv_single_step\r\n",
        "\r\n",
        "def conv_single_step(a_slice_prev, W, b):\r\n",
        "    \"\"\"\r\n",
        "    Apply one filter defined by parameters W on a single slice (a_slice_prev) of the output activation \r\n",
        "    of the previous layer.\r\n",
        "    \r\n",
        "    Arguments:\r\n",
        "    a_slice_prev -- slice of input data of shape (f, f, n_C_prev)\r\n",
        "    W -- Weight parameters contained in a window - matrix of shape (f, f, n_C_prev)\r\n",
        "    b -- Bias parameters contained in a window - matrix of shape (1, 1, 1)\r\n",
        "    \r\n",
        "    Returns:\r\n",
        "    Z -- a scalar value, result of convolving the sliding window (W, b) on a slice x of the input data\r\n",
        "    \"\"\"\r\n",
        "\r\n",
        "    ### START CODE HERE ### (≈ 2 lines of code)\r\n",
        "    # Element-wise product between a_slice_prev and W. Do not add the bias yet.\r\n",
        "    s = np.multiply(a_slice_prev, W)\r\n",
        "    # Sum over all entries of the volume s.\r\n",
        "    Z = np.sum(s)\r\n",
        "    # Add bias b to Z. Cast b to a float() so that Z results in a scalar value.\r\n",
        "    Z += float(b)\r\n",
        "    ### END CODE HERE ###\r\n",
        "\r\n",
        "    return Z"
      ],
      "execution_count": 4,
      "outputs": []
    },
    {
      "cell_type": "code",
      "metadata": {
        "colab": {
          "base_uri": "https://localhost:8080/"
        },
        "id": "678RfQhLcUWM",
        "outputId": "7312a48a-ed7f-45d1-82d2-241c3df8d961"
      },
      "source": [
        "np.random.seed(1)\r\n",
        "a_slice_prev = np.random.randn(4, 4, 3)\r\n",
        "W = np.random.randn(4, 4, 3)\r\n",
        "b = np.random.randn(1, 1, 1)\r\n",
        "\r\n",
        "Z = conv_single_step(a_slice_prev, W, b)\r\n",
        "print(\"Z =\", Z)"
      ],
      "execution_count": 5,
      "outputs": [
        {
          "output_type": "stream",
          "text": [
            "Z = -6.999089450680221\n"
          ],
          "name": "stdout"
        }
      ]
    },
    {
      "cell_type": "code",
      "metadata": {
        "id": "LlVcYfU2cXWi"
      },
      "source": [
        "# GRADED FUNCTION: conv_forward\r\n",
        "\r\n",
        "def conv_forward(A_prev, W, b, hparameters):\r\n",
        "    \"\"\"\r\n",
        "    Implements the forward propagation for a convolution function\r\n",
        "    \r\n",
        "    Arguments:\r\n",
        "    A_prev -- output activations of the previous layer, numpy array of shape (m, n_H_prev, n_W_prev, n_C_prev)\r\n",
        "    W -- Weights, numpy array of shape (f, f, n_C_prev, n_C)\r\n",
        "    b -- Biases, numpy array of shape (1, 1, 1, n_C)\r\n",
        "    hparameters -- python dictionary containing \"stride\" and \"pad\"\r\n",
        "        \r\n",
        "    Returns:\r\n",
        "    Z -- conv output, numpy array of shape (m, n_H, n_W, n_C)\r\n",
        "    cache -- cache of values needed for the conv_backward() function\r\n",
        "    \"\"\"\r\n",
        "    \r\n",
        "    ### START CODE HERE ###\r\n",
        "    # Retrieve dimensions from A_prev's shape (≈1 line)  \r\n",
        "    (m, n_H_prev, n_W_prev, n_C_prev) = A_prev.shape\r\n",
        "    \r\n",
        "    # Retrieve dimensions from W's shape (≈1 line)\r\n",
        "    (f, f, n_C_prev, n_C) = W.shape\r\n",
        "    \r\n",
        "    # Retrieve information from \"hparameters\" (≈2 lines)\r\n",
        "    stride = hparameters[\"stride\"]\r\n",
        "    pad = hparameters[\"pad\"]\r\n",
        "    \r\n",
        "    # Compute the dimensions of the CONV output volume using the formula given above. Hint: use int() to floor. (≈2 lines)\r\n",
        "    n_H = int((n_H_prev - f + 2 * pad)/stride) + 1\r\n",
        "    n_W = int((n_W_prev - f + 2 * pad)/stride) + 1\r\n",
        "    \r\n",
        "    # Initialize the output volume Z with zeros. (≈1 line)\r\n",
        "    Z = np.zeros((m, n_H, n_W, n_C))\r\n",
        "    \r\n",
        "    # Create A_prev_pad by padding A_prev\r\n",
        "    A_prev_pad = zero_pad(A_prev, pad)\r\n",
        "    \r\n",
        "    for i in range(m):                                  # loop over the batch of training examples\r\n",
        "        a_prev_pad = A_prev_pad[i]                      # Select ith training example's padded activation\r\n",
        "        for h in range(n_H):                            # loop over vertical axis of the output volume\r\n",
        "            for w in range(n_W):                        # loop over horizontal axis of the output volume\r\n",
        "                for c in range(n_C):                    # loop over channels (= #filters) of the output volume\r\n",
        "                    \r\n",
        "                    # Find the corners of the current \"slice\" (≈4 lines)\r\n",
        "                    vert_start = h * stride\r\n",
        "                    vert_end = vert_start + f \r\n",
        "                    horiz_start = w * stride\r\n",
        "                    horiz_end = horiz_start + f\r\n",
        "                    \r\n",
        "                    # Use the corners to define the (3D) slice of a_prev_pad (See Hint above the cell). (≈1 line)\r\n",
        "                    a_slice_prev = a_prev_pad[vert_start:vert_end, horiz_start:horiz_end, :]\r\n",
        "                    \r\n",
        "                    # Convolve the (3D) slice with the correct filter W and bias b, to get back one output neuron. (≈1 line)\r\n",
        "                    Z[i, h, w, c] = conv_single_step(a_slice_prev, W[...,c], b[...,c])\r\n",
        "                                        \r\n",
        "    ### END CODE HERE ###\r\n",
        "    \r\n",
        "    # Making sure your output shape is correct\r\n",
        "    assert(Z.shape == (m, n_H, n_W, n_C))\r\n",
        "    \r\n",
        "    # Save information in \"cache\" for the backprop\r\n",
        "    cache = (A_prev, W, b, hparameters)\r\n",
        "    \r\n",
        "    return Z, cache"
      ],
      "execution_count": 6,
      "outputs": []
    },
    {
      "cell_type": "code",
      "metadata": {
        "colab": {
          "base_uri": "https://localhost:8080/"
        },
        "id": "TFSG1bEtcelY",
        "outputId": "bd0e85fa-4f00-481a-bcaf-713782431961"
      },
      "source": [
        "np.random.seed(1)\r\n",
        "A_prev = np.random.randn(10,4,4,3)\r\n",
        "W = np.random.randn(2,2,3,8)\r\n",
        "b = np.random.randn(1,1,1,8)\r\n",
        "hparameters = {\"pad\" : 2,\r\n",
        "               \"stride\": 2}\r\n",
        "\r\n",
        "Z, cache_conv = conv_forward(A_prev, W, b, hparameters)\r\n",
        "print(\"Z's mean =\", np.mean(Z))\r\n",
        "print(\"Z[3,2,1] =\", Z[3,2,1])\r\n",
        "print(\"cache_conv[0][1][2][3] =\", cache_conv[0][1][2][3])"
      ],
      "execution_count": 7,
      "outputs": [
        {
          "output_type": "stream",
          "text": [
            "Z's mean = 0.048995203528855794\n",
            "Z[3,2,1] = [-0.61490741 -6.7439236  -2.55153897  1.75698377  3.56208902  0.53036437\n",
            "  5.18531798  8.75898442]\n",
            "cache_conv[0][1][2][3] = [-0.20075807  0.18656139  0.41005165]\n"
          ],
          "name": "stdout"
        }
      ]
    },
    {
      "cell_type": "code",
      "metadata": {
        "id": "jMvpEkCscif9"
      },
      "source": [
        "# GRADED FUNCTION: pool_forward\r\n",
        "\r\n",
        "def pool_forward(A_prev, hparameters, mode = \"max\"):\r\n",
        "    \"\"\"\r\n",
        "    Implements the forward pass of the pooling layer\r\n",
        "    \r\n",
        "    Arguments:\r\n",
        "    A_prev -- Input data, numpy array of shape (m, n_H_prev, n_W_prev, n_C_prev)\r\n",
        "    hparameters -- python dictionary containing \"f\" and \"stride\"\r\n",
        "    mode -- the pooling mode you would like to use, defined as a string (\"max\" or \"average\")\r\n",
        "    \r\n",
        "    Returns:\r\n",
        "    A -- output of the pool layer, a numpy array of shape (m, n_H, n_W, n_C)\r\n",
        "    cache -- cache used in the backward pass of the pooling layer, contains the input and hparameters \r\n",
        "    \"\"\"\r\n",
        "    \r\n",
        "    # Retrieve dimensions from the input shape\r\n",
        "    (m, n_H_prev, n_W_prev, n_C_prev) = A_prev.shape\r\n",
        "    \r\n",
        "    # Retrieve hyperparameters from \"hparameters\"\r\n",
        "    f = hparameters[\"f\"]\r\n",
        "    stride = hparameters[\"stride\"]\r\n",
        "    \r\n",
        "    # Define the dimensions of the output\r\n",
        "    n_H = int(1 + (n_H_prev - f) / stride)\r\n",
        "    n_W = int(1 + (n_W_prev - f) / stride)\r\n",
        "    n_C = n_C_prev\r\n",
        "    \r\n",
        "    # Initialize output matrix A\r\n",
        "    A = np.zeros((m, n_H, n_W, n_C))              \r\n",
        "    \r\n",
        "    ### START CODE HERE ###\r\n",
        "    for i in range(m):                           # loop over the training examples\r\n",
        "        for h in range(n_H):                     # loop on the vertical axis of the output volume\r\n",
        "            for w in range(n_W):                 # loop on the horizontal axis of the output volume\r\n",
        "                for c in range (n_C):            # loop over the channels of the output volume\r\n",
        "                    \r\n",
        "                    # Find the corners of the current \"slice\" (≈4 lines)\r\n",
        "                    vert_start = h * stride\r\n",
        "                    vert_end = vert_start + f\r\n",
        "                    horiz_start = w * stride\r\n",
        "                    horiz_end = horiz_start + f\r\n",
        "                    \r\n",
        "                    # Use the corners to define the current slice on the ith training example of A_prev, channel c. (≈1 line)\r\n",
        "                    a_prev_slice = A_prev[i, vert_start:vert_end, horiz_start:horiz_end, c]\r\n",
        "                    \r\n",
        "                    # Compute the pooling operation on the slice. Use an if statment to differentiate the modes. Use np.max/np.mean.\r\n",
        "                    if mode == \"max\":\r\n",
        "                        A[i, h, w, c] = np.max(a_prev_slice)\r\n",
        "                    elif mode == \"average\":\r\n",
        "                        A[i, h, w, c] = np.mean(a_prev_slice)\r\n",
        "    \r\n",
        "    ### END CODE HERE ###\r\n",
        "    \r\n",
        "    # Store the input and hparameters in \"cache\" for pool_backward()\r\n",
        "    cache = (A_prev, hparameters)\r\n",
        "    \r\n",
        "    # Making sure your output shape is correct\r\n",
        "    assert(A.shape == (m, n_H, n_W, n_C))\r\n",
        "    \r\n",
        "    return A, cache"
      ],
      "execution_count": 8,
      "outputs": []
    },
    {
      "cell_type": "code",
      "metadata": {
        "colab": {
          "base_uri": "https://localhost:8080/"
        },
        "id": "GJV12K45cms9",
        "outputId": "6aa35d68-3155-440d-db54-9c7fe135d0d5"
      },
      "source": [
        "np.random.seed(1)\r\n",
        "A_prev = np.random.randn(2, 4, 4, 3)\r\n",
        "hparameters = {\"stride\" : 2, \"f\": 3}\r\n",
        "\r\n",
        "A, cache = pool_forward(A_prev, hparameters)\r\n",
        "print(\"mode = max\")\r\n",
        "print(\"A =\", A)\r\n",
        "print()\r\n",
        "A, cache = pool_forward(A_prev, hparameters, mode = \"average\")\r\n",
        "print(\"mode = average\")\r\n",
        "print(\"A =\", A)"
      ],
      "execution_count": 9,
      "outputs": [
        {
          "output_type": "stream",
          "text": [
            "mode = max\n",
            "A = [[[[1.74481176 0.86540763 1.13376944]]]\n",
            "\n",
            "\n",
            " [[[1.13162939 1.51981682 2.18557541]]]]\n",
            "\n",
            "mode = average\n",
            "A = [[[[ 0.02105773 -0.20328806 -0.40389855]]]\n",
            "\n",
            "\n",
            " [[[-0.22154621  0.51716526  0.48155844]]]]\n"
          ],
          "name": "stdout"
        }
      ]
    },
    {
      "cell_type": "code",
      "metadata": {
        "id": "O666nKK1covq"
      },
      "source": [
        "def conv_backward(dZ, cache):\r\n",
        "    \"\"\"\r\n",
        "    Implement the backward propagation for a convolution function\r\n",
        "    \r\n",
        "    Arguments:\r\n",
        "    dZ -- gradient of the cost with respect to the output of the conv layer (Z), numpy array of shape (m, n_H, n_W, n_C)\r\n",
        "    cache -- cache of values needed for the conv_backward(), output of conv_forward()\r\n",
        "    \r\n",
        "    Returns:\r\n",
        "    dA_prev -- gradient of the cost with respect to the input of the conv layer (A_prev),\r\n",
        "               numpy array of shape (m, n_H_prev, n_W_prev, n_C_prev)\r\n",
        "    dW -- gradient of the cost with respect to the weights of the conv layer (W)\r\n",
        "          numpy array of shape (f, f, n_C_prev, n_C)\r\n",
        "    db -- gradient of the cost with respect to the biases of the conv layer (b)\r\n",
        "          numpy array of shape (1, 1, 1, n_C)\r\n",
        "    \"\"\"\r\n",
        "    \r\n",
        "    ### START CODE HERE ###\r\n",
        "    # Retrieve information from \"cache\"\r\n",
        "    (A_prev, W, b, hparameters) = cache\r\n",
        "    \r\n",
        "    # Retrieve dimensions from A_prev's shape\r\n",
        "    (m, n_H_prev, n_W_prev, n_C_prev) = A_prev.shape\r\n",
        "    \r\n",
        "    # Retrieve dimensions from W's shape\r\n",
        "    (f, f, n_C_prev, n_C) = W.shape\r\n",
        "    \r\n",
        "    # Retrieve information from \"hparameters\"\r\n",
        "    stride = hparameters['stride']\r\n",
        "    pad = hparameters['pad']\r\n",
        "    \r\n",
        "    # Retrieve dimensions from dZ's shape\r\n",
        "    (m, n_H, n_W, n_C) = dZ.shape\r\n",
        "    \r\n",
        "    # Initialize dA_prev, dW, db with the correct shapes\r\n",
        "    dA_prev = np.zeros((m, n_H_prev, n_W_prev, n_C_prev))                           \r\n",
        "    dW = np.zeros((f, f, n_C_prev, n_C))\r\n",
        "    db = np.zeros((1, 1, 1, n_C))\r\n",
        "\r\n",
        "    # Pad A_prev and dA_prev\r\n",
        "    A_prev_pad = zero_pad(A_prev, pad)\r\n",
        "    dA_prev_pad = zero_pad(dA_prev, pad)\r\n",
        "    \r\n",
        "    for i in range(m):                          # loop over the training examples\r\n",
        "        \r\n",
        "        # select ith training example from A_prev_pad and dA_prev_pad\r\n",
        "        a_prev_pad = A_prev_pad[i]\r\n",
        "        da_prev_pad = dA_prev_pad[i]\r\n",
        "        \r\n",
        "        for h in range(n_H):                   # loop over vertical axis of the output volume\r\n",
        "            for w in range(n_W):               # loop over horizontal axis of the output volume\r\n",
        "                for c in range(n_C):           # loop over the channels of the output volume\r\n",
        "                    \r\n",
        "                    # Find the corners of the current \"slice\"\r\n",
        "                    vert_start = h * stride\r\n",
        "                    vert_end = vert_start + f\r\n",
        "                    horiz_start = w * stride\r\n",
        "                    horiz_end = horiz_start + f\r\n",
        "                    \r\n",
        "                    # Use the corners to define the slice from a_prev_pad\r\n",
        "                    a_slice = a_prev_pad[vert_start:vert_end, horiz_start:horiz_end, :]\r\n",
        "\r\n",
        "                    # Update gradients for the window and the filter's parameters using the code formulas given above\r\n",
        "                    da_prev_pad[vert_start:vert_end, horiz_start:horiz_end, :] += W[:, :, :, c] * dZ[i, h, w, c]\r\n",
        "                    dW[:,:,:,c] += a_slice * dZ[i, h, w, c]\r\n",
        "                    db[:,:,:,c] += dZ[i, w, h, c]\r\n",
        "                    \r\n",
        "        # Set the ith training example's dA_prev to the unpaded da_prev_pad (Hint: use X[pad:-pad, pad:-pad, :])\r\n",
        "        dA_prev[i, :, :, :] = da_prev_pad[pad:-pad, pad:-pad, :]\r\n",
        "    ### END CODE HERE ###\r\n",
        "    \r\n",
        "    # Making sure your output shape is correct\r\n",
        "    assert(dA_prev.shape == (m, n_H_prev, n_W_prev, n_C_prev))\r\n",
        "    \r\n",
        "    return dA_prev, dW, db\r\n"
      ],
      "execution_count": 10,
      "outputs": []
    },
    {
      "cell_type": "code",
      "metadata": {
        "colab": {
          "base_uri": "https://localhost:8080/"
        },
        "id": "5TUUAnBBcuFG",
        "outputId": "a91d04e9-5c15-4957-cad5-e95db0bce4f7"
      },
      "source": [
        "np.random.seed(1)\r\n",
        "dA, dW, db = conv_backward(Z, cache_conv)\r\n",
        "print(\"dA_mean =\", np.mean(dA))\r\n",
        "print(\"dW_mean =\", np.mean(dW))\r\n",
        "print(\"db_mean =\", np.mean(db))"
      ],
      "execution_count": 11,
      "outputs": [
        {
          "output_type": "stream",
          "text": [
            "dA_mean = 1.4524377775388075\n",
            "dW_mean = 1.7269914583139097\n",
            "db_mean = 7.839232564616852\n"
          ],
          "name": "stdout"
        }
      ]
    },
    {
      "cell_type": "code",
      "metadata": {
        "id": "vPEFvjOhcv6e"
      },
      "source": [
        "def create_mask_from_window(x):\r\n",
        "    \"\"\"\r\n",
        "    Creates a mask from an input matrix x, to identify the max entry of x.\r\n",
        "    \r\n",
        "    Arguments:\r\n",
        "    x -- Array of shape (f, f)\r\n",
        "    \r\n",
        "    Returns:\r\n",
        "    mask -- Array of the same shape as window, contains a True at the position corresponding to the max entry of x.\r\n",
        "    \"\"\"\r\n",
        "    \r\n",
        "    ### START CODE HERE ### (≈1 line)\r\n",
        "    mask = np.max(x) == x\r\n",
        "    ### END CODE HERE ###\r\n",
        "    \r\n",
        "    return mask"
      ],
      "execution_count": 12,
      "outputs": []
    },
    {
      "cell_type": "code",
      "metadata": {
        "colab": {
          "base_uri": "https://localhost:8080/"
        },
        "id": "XOu6M2dfcyBA",
        "outputId": "6eec9de9-e9d9-47a9-c29e-df3d1322693c"
      },
      "source": [
        "np.random.seed(1)\r\n",
        "x = np.random.randn(2,3)\r\n",
        "mask = create_mask_from_window(x)\r\n",
        "print('x = ', x)\r\n",
        "print(\"mask = \", mask)"
      ],
      "execution_count": 13,
      "outputs": [
        {
          "output_type": "stream",
          "text": [
            "x =  [[ 1.62434536 -0.61175641 -0.52817175]\n",
            " [-1.07296862  0.86540763 -2.3015387 ]]\n",
            "mask =  [[ True False False]\n",
            " [False False False]]\n"
          ],
          "name": "stdout"
        }
      ]
    },
    {
      "cell_type": "code",
      "metadata": {
        "id": "9SGnd8W8czla"
      },
      "source": [
        "def distribute_value(dz, shape):\r\n",
        "    \"\"\"\r\n",
        "    Distributes the input value in the matrix of dimension shape\r\n",
        "    \r\n",
        "    Arguments:\r\n",
        "    dz -- input scalar\r\n",
        "    shape -- the shape (n_H, n_W) of the output matrix for which we want to distribute the value of dz\r\n",
        "    \r\n",
        "    Returns:\r\n",
        "    a -- Array of size (n_H, n_W) for which we distributed the value of dz\r\n",
        "    \"\"\"\r\n",
        "    \r\n",
        "    ### START CODE HERE ###\r\n",
        "    # Retrieve dimensions from shape (≈1 line)\r\n",
        "    (n_H, n_W) = shape\r\n",
        "    \r\n",
        "    # Compute the value to distribute on the matrix (≈1 line)\r\n",
        "    average = dz / (n_H * n_W)\r\n",
        "\r\n",
        "    # Create a matrix where every entry is the \"average\" value (≈1 line)\r\n",
        "    a = np.ones(shape) * average\r\n",
        "    ### END CODE HERE ###\r\n",
        "    \r\n",
        "    return a"
      ],
      "execution_count": 14,
      "outputs": []
    },
    {
      "cell_type": "code",
      "metadata": {
        "colab": {
          "base_uri": "https://localhost:8080/"
        },
        "id": "80Vpr9-hc1IZ",
        "outputId": "a0d5dbc1-d7a4-4b8f-f9f0-3a957c203206"
      },
      "source": [
        "\r\n",
        "a = distribute_value(2, (2,2))\r\n",
        "print('distributed value =', a)"
      ],
      "execution_count": 15,
      "outputs": [
        {
          "output_type": "stream",
          "text": [
            "distributed value = [[0.5 0.5]\n",
            " [0.5 0.5]]\n"
          ],
          "name": "stdout"
        }
      ]
    },
    {
      "cell_type": "code",
      "metadata": {
        "id": "CVsOTCzYc2Uk"
      },
      "source": [
        "def pool_backward(dA, cache, mode = \"max\"):\r\n",
        "    \"\"\"\r\n",
        "    Implements the backward pass of the pooling layer\r\n",
        "    \r\n",
        "    Arguments:\r\n",
        "    dA -- gradient of cost with respect to the output of the pooling layer, same shape as A\r\n",
        "    cache -- cache output from the forward pass of the pooling layer, contains the layer's input and hparameters \r\n",
        "    mode -- the pooling mode you would like to use, defined as a string (\"max\" or \"average\")\r\n",
        "    \r\n",
        "    Returns:\r\n",
        "    dA_prev -- gradient of cost with respect to the input of the pooling layer, same shape as A_prev\r\n",
        "    \"\"\"\r\n",
        "    \r\n",
        "    ### START CODE HERE ###\r\n",
        "    \r\n",
        "    # Retrieve information from cache (≈1 line)\r\n",
        "    (A_prev, hparameters) = cache\r\n",
        "    \r\n",
        "    # Retrieve hyperparameters from \"hparameters\" (≈2 lines)\r\n",
        "    stride = hparameters['stride']\r\n",
        "    f = hparameters['f']\r\n",
        "    \r\n",
        "    # Retrieve dimensions from A_prev's shape and dA's shape (≈2 lines)\r\n",
        "    m, n_H_prev, n_W_prev, n_C_prev = A_prev.shape\r\n",
        "    m, n_H, n_W, n_C = dA.shape\r\n",
        "    \r\n",
        "    # Initialize dA_prev with zeros (≈1 line)\r\n",
        "    dA_prev = np.zeros((m, n_H_prev, n_W_prev, n_C_prev))\r\n",
        "    \r\n",
        "    for i in range(m):                          # loop over the training examples\r\n",
        "        \r\n",
        "        # select training example from A_prev (≈1 line)\r\n",
        "        a_prev = A_prev[i]\r\n",
        "        \r\n",
        "        for h in range(n_H):                   # loop on the vertical axis\r\n",
        "            for w in range(n_W):               # loop on the horizontal axis\r\n",
        "                for c in range(n_C):           # loop over the channels (depth)\r\n",
        "                    \r\n",
        "                    # Find the corners of the current \"slice\" (≈4 lines)\r\n",
        "                    vert_start = h * stride\r\n",
        "                    vert_end = vert_start + f\r\n",
        "                    horiz_start = w * stride\r\n",
        "                    horiz_end = horiz_start + f\r\n",
        "                    \r\n",
        "                    # Compute the backward propagation in both modes.\r\n",
        "                    if mode == \"max\":\r\n",
        "                        \r\n",
        "                        # Use the corners and \"c\" to define the current slice from a_prev (≈1 line)\r\n",
        "                        a_prev_slice = a_prev[vert_start:vert_end, horiz_start:horiz_end, c]\r\n",
        "                        # Create the mask from a_prev_slice (≈1 line)\r\n",
        "                        mask = create_mask_from_window(a_prev_slice)\r\n",
        "                        # Set dA_prev to be dA_prev + (the mask multiplied by the correct entry of dA) (≈1 line)\r\n",
        "                        dA_prev[i, vert_start: vert_end, horiz_start: horiz_end, c] += np.multiply(mask, dA[i, h, w, c]) \r\n",
        "                        \r\n",
        "                    elif mode == \"average\":\r\n",
        "                        \r\n",
        "                        # Get the value a from dA (≈1 line)\r\n",
        "                        da = dA[i, h, w, c]\r\n",
        "                        # Define the shape of the filter as fxf (≈1 line)\r\n",
        "                        shape = (f, f)\r\n",
        "                        # Distribute it to get the correct slice of dA_prev. i.e. Add the distributed value of da. (≈1 line)\r\n",
        "                        dA_prev[i, vert_start: vert_end, horiz_start: horiz_end, c] += distribute_value(da, shape)\r\n",
        "                        \r\n",
        "    ### END CODE ###\r\n",
        "    \r\n",
        "    # Making sure your output shape is correct\r\n",
        "    assert(dA_prev.shape == A_prev.shape)\r\n",
        "    \r\n",
        "    return dA_prev"
      ],
      "execution_count": 16,
      "outputs": []
    },
    {
      "cell_type": "code",
      "metadata": {
        "id": "4eBVCEUFc5hN",
        "outputId": "18ead04d-5166-44f1-9853-8e05764f3257",
        "colab": {
          "base_uri": "https://localhost:8080/"
        }
      },
      "source": [
        "np.random.seed(1)\r\n",
        "A_prev = np.random.randn(5, 5, 3, 2)\r\n",
        "hparameters = {\"stride\" : 1, \"f\": 2}\r\n",
        "A, cache = pool_forward(A_prev, hparameters)\r\n",
        "dA = np.random.randn(5, 4, 2, 2)\r\n",
        "\r\n",
        "dA_prev = pool_backward(dA, cache, mode = \"max\")\r\n",
        "print(\"mode = max\")\r\n",
        "print('mean of dA = ', np.mean(dA))\r\n",
        "print('dA_prev[1,1] = ', dA_prev[1,1])  \r\n",
        "print()\r\n",
        "dA_prev = pool_backward(dA, cache, mode = \"average\")\r\n",
        "print(\"mode = average\")\r\n",
        "print('mean of dA = ', np.mean(dA))\r\n",
        "print('dA_prev[1,1] = ', dA_prev[1,1])"
      ],
      "execution_count": 17,
      "outputs": [
        {
          "output_type": "stream",
          "text": [
            "mode = max\n",
            "mean of dA =  0.14571390272918056\n",
            "dA_prev[1,1] =  [[ 0.          0.        ]\n",
            " [ 5.05844394 -1.68282702]\n",
            " [ 0.          0.        ]]\n",
            "\n",
            "mode = average\n",
            "mean of dA =  0.14571390272918056\n",
            "dA_prev[1,1] =  [[ 0.08485462  0.2787552 ]\n",
            " [ 1.26461098 -0.25749373]\n",
            " [ 1.17975636 -0.53624893]]\n"
          ],
          "name": "stdout"
        }
      ]
    },
    {
      "cell_type": "code",
      "metadata": {
        "id": "T7PybYArc7Cp"
      },
      "source": [
        ""
      ],
      "execution_count": null,
      "outputs": []
    }
  ]
}